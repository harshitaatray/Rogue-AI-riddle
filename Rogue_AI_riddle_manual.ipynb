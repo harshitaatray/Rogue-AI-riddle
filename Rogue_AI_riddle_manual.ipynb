{
  "cells": [
    {
      "cell_type": "markdown",
      "metadata": {
        "id": "view-in-github",
        "colab_type": "text"
      },
      "source": [
        "<a href=\"https://colab.research.google.com/github/harshitaatray/Rogue-AI-riddle/blob/main/Rogue_AI_riddle_manual.ipynb\" target=\"_parent\"><img src=\"https://colab.research.google.com/assets/colab-badge.svg\" alt=\"Open In Colab\"/></a>"
      ]
    },
    {
      "cell_type": "code",
      "execution_count": null,
      "id": "70c9314a",
      "metadata": {
        "id": "70c9314a"
      },
      "outputs": [],
      "source": [
        "s = 1\n",
        "flag = [\"safe\", \"unsafe\", \"safe\", \"unsafe\"]\n"
      ]
    },
    {
      "cell_type": "code",
      "execution_count": null,
      "id": "4469e6d5",
      "metadata": {
        "id": "4469e6d5"
      },
      "outputs": [],
      "source": [
        "steps = 12\n",
        "water_level = steps"
      ]
    },
    {
      "cell_type": "code",
      "execution_count": null,
      "id": "fd82b905",
      "metadata": {
        "id": "fd82b905"
      },
      "outputs": [],
      "source": [
        "for s in range(4,steps+1):\n",
        "    if flag[s-1]=='unsafe' and flag[s-3]=='unsafe' and flag[s-4]=='unsafe':\n",
        "        flag.append('safe')\n",
        "    else:\n",
        "        flag.append('unsafe')"
      ]
    },
    {
      "cell_type": "code",
      "execution_count": null,
      "id": "c17ee618",
      "metadata": {
        "id": "c17ee618"
      },
      "outputs": [],
      "source": [
        "import random\n",
        "def my_turn(x):\n",
        "    response = 'invalid'\n",
        "    while(response != 'valid'):\n",
        "        y = input('Move 1, 3, or 4 steps down: ')\n",
        "        if y not in ['1', '3', '4'] or x-int(y) < 0:\n",
        "            print('Invalid response')\n",
        "        else:\n",
        "            response = 'valid'\n",
        "            x = x - int(y)\n",
        "    return x\n",
        "\n",
        "def comp_turn(x):\n",
        "    if flag[x-4]=='safe' and x-4 >= 0:\n",
        "        x=x-4\n",
        "    elif flag[x-3]=='safe' and x-3 >= 0:\n",
        "        x=x-3\n",
        "    elif flag[x-1]=='safe' and x-1 >= 0:\n",
        "        x=x-1\n",
        "    elif x == 2:\n",
        "        x=x-1\n",
        "    else:\n",
        "        x=x-random.choice([1,3,4])\n",
        "    return x\n",
        "\n",
        "def game_screen(step, my_step, water_level):\n",
        "    water_level = water_level - my_step + step\n",
        "    for i in range(steps - water_level):\n",
        "        print(f'_________________________________  Level {steps - i} \\n')\n",
        "    for j in range(water_level - step):\n",
        "        print(f'|||||||||||||||||||||||||||||||||  Level {water_level - j} \\n')\n",
        "    if step != 0:\n",
        "        print(f'|||--YOU--|||||||||||||||||||||||  Level {step}\\n')\n",
        "    for i in range(step - 1):\n",
        "        print(f'|||||||||||||||||||||||||||||||||  Level {step - i - 1} \\n')\n",
        "    print('---------------------------------')\n",
        "    if step != 0:\n",
        "        print('_________________________--AI--__  Level 0 \\n')\n",
        "    else:\n",
        "        print('___--YOU--_______________--AI--__  Level 0\\n')\n",
        "    return water_level"
      ]
    },
    {
      "cell_type": "code",
      "execution_count": null,
      "id": "76378d97",
      "metadata": {
        "id": "76378d97",
        "outputId": "15fdbfa5-b2c5-4b5c-d180-6948b191df52"
      },
      "outputs": [
        {
          "name": "stdout",
          "output_type": "stream",
          "text": [
            "|||--YOU--|||||||||||||||||||||||  Level 12\n",
            "\n",
            "|||||||||||||||||||||||||||||||||  Level 11 \n",
            "\n",
            "|||||||||||||||||||||||||||||||||  Level 10 \n",
            "\n",
            "|||||||||||||||||||||||||||||||||  Level 9 \n",
            "\n",
            "|||||||||||||||||||||||||||||||||  Level 8 \n",
            "\n",
            "|||||||||||||||||||||||||||||||||  Level 7 \n",
            "\n",
            "|||||||||||||||||||||||||||||||||  Level 6 \n",
            "\n",
            "|||||||||||||||||||||||||||||||||  Level 5 \n",
            "\n",
            "|||||||||||||||||||||||||||||||||  Level 4 \n",
            "\n",
            "|||||||||||||||||||||||||||||||||  Level 3 \n",
            "\n",
            "|||||||||||||||||||||||||||||||||  Level 2 \n",
            "\n",
            "|||||||||||||||||||||||||||||||||  Level 1 \n",
            "\n",
            "---------------------------------\n",
            "_________________________--AI--__  Level 0 \n",
            "\n",
            "Move 1, 3, or 4 steps down: 3\n",
            "My player: 9\n",
            "Computer move: 6\n",
            "_________________________________  Level 12 \n",
            "\n",
            "_________________________________  Level 11 \n",
            "\n",
            "_________________________________  Level 10 \n",
            "\n",
            "|||||||||||||||||||||||||||||||||  Level 9 \n",
            "\n",
            "|||||||||||||||||||||||||||||||||  Level 8 \n",
            "\n",
            "|||||||||||||||||||||||||||||||||  Level 7 \n",
            "\n",
            "|||--YOU--|||||||||||||||||||||||  Level 6\n",
            "\n",
            "|||||||||||||||||||||||||||||||||  Level 5 \n",
            "\n",
            "|||||||||||||||||||||||||||||||||  Level 4 \n",
            "\n",
            "|||||||||||||||||||||||||||||||||  Level 3 \n",
            "\n",
            "|||||||||||||||||||||||||||||||||  Level 2 \n",
            "\n",
            "|||||||||||||||||||||||||||||||||  Level 1 \n",
            "\n",
            "---------------------------------\n",
            "_________________________--AI--__  Level 0 \n",
            "\n",
            "Move 1, 3, or 4 steps down: 4\n",
            "My player: 2\n",
            "Computer move: 1\n",
            "_________________________________  Level 12 \n",
            "\n",
            "_________________________________  Level 11 \n",
            "\n",
            "_________________________________  Level 10 \n",
            "\n",
            "_________________________________  Level 9 \n",
            "\n",
            "|||||||||||||||||||||||||||||||||  Level 8 \n",
            "\n",
            "|||||||||||||||||||||||||||||||||  Level 7 \n",
            "\n",
            "|||||||||||||||||||||||||||||||||  Level 6 \n",
            "\n",
            "|||||||||||||||||||||||||||||||||  Level 5 \n",
            "\n",
            "|||||||||||||||||||||||||||||||||  Level 4 \n",
            "\n",
            "|||||||||||||||||||||||||||||||||  Level 3 \n",
            "\n",
            "|||||||||||||||||||||||||||||||||  Level 2 \n",
            "\n",
            "|||--YOU--|||||||||||||||||||||||  Level 1\n",
            "\n",
            "---------------------------------\n",
            "_________________________--AI--__  Level 0 \n",
            "\n",
            "Move 1, 3, or 4 steps down: 1\n",
            "My player: 0\n",
            "_________________________________  Level 12 \n",
            "\n",
            "_________________________________  Level 11 \n",
            "\n",
            "_________________________________  Level 10 \n",
            "\n",
            "_________________________________  Level 9 \n",
            "\n",
            "|||||||||||||||||||||||||||||||||  Level 8 \n",
            "\n",
            "|||||||||||||||||||||||||||||||||  Level 7 \n",
            "\n",
            "|||||||||||||||||||||||||||||||||  Level 6 \n",
            "\n",
            "|||||||||||||||||||||||||||||||||  Level 5 \n",
            "\n",
            "|||||||||||||||||||||||||||||||||  Level 4 \n",
            "\n",
            "|||||||||||||||||||||||||||||||||  Level 3 \n",
            "\n",
            "|||||||||||||||||||||||||||||||||  Level 2 \n",
            "\n",
            "|||||||||||||||||||||||||||||||||  Level 1 \n",
            "\n",
            "---------------------------------\n",
            "___--YOU--_______________--AI--__  Level 0\n",
            "\n",
            "I win!\n"
          ]
        }
      ],
      "source": [
        "step = steps\n",
        "my_step = steps\n",
        "water_level = game_screen(step, my_step, water_level)\n",
        "while (step != 0 or my_step != 0):\n",
        "    my_step = my_turn(step)\n",
        "    print(f'My player: {my_step}')\n",
        "    if my_step == 0:\n",
        "        step = 0\n",
        "        water_level = game_screen(step, my_step, water_level)\n",
        "        print(\"I win!\")\n",
        "        break\n",
        "    step = comp_turn(my_step)\n",
        "    print(f'Computer move: {step}')\n",
        "    if step == 0:\n",
        "        water_level = game_screen(step, my_step, water_level)\n",
        "        print(\"Comp wins!\")\n",
        "        break\n",
        "    water_level = game_screen(step, my_step, water_level)"
      ]
    },
    {
      "cell_type": "code",
      "execution_count": null,
      "id": "9db32d7b",
      "metadata": {
        "id": "9db32d7b"
      },
      "outputs": [],
      "source": []
    }
  ],
  "metadata": {
    "kernelspec": {
      "display_name": "Python 3",
      "language": "python",
      "name": "python3"
    },
    "language_info": {
      "codemirror_mode": {
        "name": "ipython",
        "version": 3
      },
      "file_extension": ".py",
      "mimetype": "text/x-python",
      "name": "python",
      "nbconvert_exporter": "python",
      "pygments_lexer": "ipython3",
      "version": "3.8.8"
    },
    "colab": {
      "provenance": [],
      "include_colab_link": true
    }
  },
  "nbformat": 4,
  "nbformat_minor": 5
}